{
 "cells": [
  {
   "cell_type": "code",
   "execution_count": 1,
   "id": "9b5d284d-bb75-47d3-941d-02e63886cdea",
   "metadata": {},
   "outputs": [],
   "source": [
    "%matplotlib widget\n",
    "import ipywidgets as widgets\n",
    "from ipywidgets import *\n",
    "from IPython.display import display, HTML\n",
    "import tickers_dexcalibur\n",
    "import tickers_moonlight\n",
    "import strategy_moonlight\n",
    "import matplotlib.pyplot as plt\n",
    "import numpy as np\n",
    "import pandas as pd\n",
    "import time\n",
    "import threading"
   ]
  },
  {
   "cell_type": "code",
   "execution_count": 2,
   "id": "6e509265-ad6e-41c5-b350-8985d1b82bc7",
   "metadata": {
    "scrolled": false
   },
   "outputs": [],
   "source": [
    "moonlight = {}\n",
    "moonlight_master = pd.DataFrame()\n",
    "backtest = False\n",
    "\n",
    "def work():\n",
    "    global backtest\n",
    "    \n",
    "    while backtest:\n",
    "        button_coin.button_style = 'success'\n",
    "        coin.options = list(tickers_moonlight.tickers.keys()) if w2.value == 1 else list(tickers_dexcalibur.tickers.keys())\n",
    "        time.sleep(0.5)\n",
    "\n",
    "        \n",
    "def click_view(v):\n",
    "    global moonlight\n",
    "    fig, ax = plt.subplots(figsize=(6, 4))\n",
    "    ax.grid(True)\n",
    "    ax.plot(moonlight[coin.value].index, moonlight[coin.value].BALANCE, color='C0')\n",
    "    \n",
    "    \n",
    "def click_start(b):\n",
    "    global w1, w2, moonlight, moonlight_master, backtest\n",
    "    \n",
    "    btc = 0.01\n",
    "    fee = 0.001\n",
    "    slippage = 0.001\n",
    "    tickers = tickers_moonlight.tickers if w2.value == 1 else tickers_dexcalibur.tickers\n",
    "    n_coins = len(tickers)\n",
    "    \n",
    "    moonlight = strategy_moonlight.get_data_bot(14,7,int(w1.value),tickers,btc,fee,slippage)\n",
    "    \n",
    "    moonlight_master = moonlight[list(moonlight.keys())[0]].copy()\n",
    "    moonlight_master.POSITION = 0\n",
    "    moonlight_master.BALANCE = 0\n",
    "    moonlight_master.OPERATIONS = 0\n",
    "    for coin_dataframe in moonlight:\n",
    "        moonlight_master += moonlight[coin_dataframe]\n",
    "    \n",
    "    backtest = True\n",
    "    # set up plot\n",
    "    fig, ax = plt.subplots(figsize=(6, 4))\n",
    "    ax.grid(True)\n",
    "    ax.plot(moonlight_master.index, moonlight_master.BALANCE, color='C0')\n",
    "    \n",
    "    thread = threading.Thread(target=work)\n",
    "    thread.start()"
   ]
  },
  {
   "cell_type": "code",
   "execution_count": 3,
   "id": "202c8e4c",
   "metadata": {},
   "outputs": [
    {
     "data": {
      "text/html": [
       "<h3>REPORT BOT ACADEMY tools</h3>"
      ],
      "text/plain": [
       "<IPython.core.display.HTML object>"
      ]
     },
     "metadata": {},
     "output_type": "display_data"
    },
    {
     "data": {
      "application/vnd.jupyter.widget-view+json": {
       "model_id": "24b25fdabe6d49bc8986b82ca9a8985f",
       "version_major": 2,
       "version_minor": 0
      },
      "text/plain": [
       "HBox(children=(VBox(children=(Dropdown(description='BACKTEST:', index=2, options=('30', '60', '90', '120'), va…"
      ]
     },
     "metadata": {},
     "output_type": "display_data"
    }
   ],
   "source": [
    "display(HTML(\"<h3>REPORT BOT ACADEMY tools</h3>\"))\n",
    "\n",
    "w1 = widgets.Dropdown(\n",
    "    options=['30', '60', '90', '120'],\n",
    "    value='90',\n",
    "    description='BACKTEST:',\n",
    "    disabled=False,\n",
    ")\n",
    "\n",
    "w2 = widgets.Dropdown(\n",
    "    options=[('MOONLIGHT', 1), ('DEXCALIBUR', 2)],\n",
    "    value=1,\n",
    "    description='STRATEGY:',\n",
    ")\n",
    "\n",
    "button_start = widgets.Button(\n",
    "    description='START',\n",
    "    disabled=False,\n",
    "    button_style='', # 'success', 'info', 'warning', 'danger' or ''\n",
    "    tooltip='START',\n",
    "    icon='play' # (FontAwesome names without the `fa-` prefix)\n",
    ")\n",
    "\n",
    "coin = widgets.Dropdown(\n",
    "    options=list(tickers_moonlight.tickers.keys()),\n",
    "    description='COIN:',\n",
    ")\n",
    "\n",
    "button_coin = widgets.Button(\n",
    "    description='VIEW',\n",
    "    disabled=False,\n",
    "    button_style='info' if backtest else 'warning', # 'success', 'info', 'warning', 'danger' or ''\n",
    "    tooltip='VIEW',\n",
    "    icon='chart-line' # (FontAwesome names without the `fa-` prefix)\n",
    ")\n",
    "\n",
    "button_start.on_click(click_start)\n",
    "button_coin.on_click(click_view)\n",
    "\n",
    "widgets.HBox([widgets.VBox([w1, w2, button_start]),widgets.HBox([coin, button_coin])])"
   ]
  }
 ],
 "metadata": {
  "kernelspec": {
   "display_name": "Python [conda env:root] *",
   "language": "python",
   "name": "conda-root-py"
  },
  "language_info": {
   "codemirror_mode": {
    "name": "ipython",
    "version": 3
   },
   "file_extension": ".py",
   "mimetype": "text/x-python",
   "name": "python",
   "nbconvert_exporter": "python",
   "pygments_lexer": "ipython3",
   "version": "3.8.12"
  }
 },
 "nbformat": 4,
 "nbformat_minor": 5
}
